{
 "cells": [
  {
   "cell_type": "markdown",
   "metadata": {},
   "source": [
    "#  Programming for Data Analysis \n",
    "## Diarmuid Whelan Assignment 26-11-2018\n",
    "This Jupyter notebook will simulate the Irish house prices using the python numpy.random package. The goal of this notebook is to\n",
    "    - Choose a real-world phenomenon that can be measured and for which you could collect at least one-hundred data\n",
    "    points across at least four different variables.\n",
    "    - Investigate the types of variables involved, their likely distributions, and their relationships with each\n",
    "    other.\n",
    "    - Synthesise/simulate a data set as closely matching their properties as possible.\n",
    "    - Detail your research and implement the simulation in a Jupyter notebook \n",
    "    – the data set itself can simply be displayed in an output cell within the notebook.\n",
    "    \n",
    "Irish property prices are of great interest to many, especially in the last two decades as the property market has gone from boom to bust and seemingly embarks on another boom st the moment. The price of a house can be influenced by a number of factors - no. of bedrooms, size(sqft.), location and building type - to name a few."
   ]
  },
  {
   "cell_type": "code",
   "execution_count": null,
   "metadata": {},
   "outputs": [],
   "source": []
  }
 ],
 "metadata": {
  "kernelspec": {
   "display_name": "Python 3",
   "language": "python",
   "name": "python3"
  },
  "language_info": {
   "codemirror_mode": {
    "name": "ipython",
    "version": 3
   },
   "file_extension": ".py",
   "mimetype": "text/x-python",
   "name": "python",
   "nbconvert_exporter": "python",
   "pygments_lexer": "ipython3",
   "version": "3.6.5"
  }
 },
 "nbformat": 4,
 "nbformat_minor": 2
}
